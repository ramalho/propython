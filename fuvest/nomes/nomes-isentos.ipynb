{
 "cells": [
  {
   "cell_type": "code",
   "execution_count": 1,
   "id": "3b75b184-ad26-486e-808d-72d01774dc2a",
   "metadata": {},
   "outputs": [
    {
     "name": "stdout",
     "output_type": "stream",
     "text": [
      "30647\n"
     ]
    },
    {
     "data": {
      "text/plain": [
       "[('Ana Paula da Silva', 9),\n",
       " ('Ana Maria dos Santos', 4),\n",
       " ('Ana Paula de Oliveira', 4),\n",
       " ('Ana Paula dos Santos', 4),\n",
       " ('Jose Carlos da Silva', 4),\n",
       " ('Adriana da Silva', 3),\n",
       " ('Amanda Cristina da Silva', 3),\n",
       " ('Ana Lucia dos Santos', 3),\n",
       " ('Bruna Ferreira', 3),\n",
       " ('Camila Silva Santos', 3),\n",
       " ('Carlos Alberto da Silva', 3),\n",
       " ('Claudio Ferreira da Silva', 3),\n",
       " ('Debora Cristina da Silva', 3),\n",
       " ('Douglas da Silva', 3),\n",
       " ('Eduardo Nunes da Silva', 3),\n",
       " ('Fabio da Silva Santos', 3),\n",
       " ('Jessica Alves da Silva', 3),\n",
       " ('Juliana Goncalves', 3),\n",
       " ('Marcelo Rodrigues da Silva', 3),\n",
       " ('Marcia Maria da Silva', 3)]"
      ]
     },
     "execution_count": 1,
     "metadata": {},
     "output_type": "execute_result"
    }
   ],
   "source": [
    "from collections import Counter\n",
    "from glob import glob\n",
    "\n",
    "ANO = 2008  # isen2006 é o maior arquivo\n",
    "\n",
    "def extrair_nomes(linhas):\n",
    "    for linha in linhas:\n",
    "        campos = linha.split('(')\n",
    "        if len(campos) < 2:\n",
    "            continue\n",
    "        partes = campos[0].split()[1:]  # descartar numero fuvest\n",
    "        yield ' '.join(partes)\n",
    "\n",
    "\n",
    "def conta_nomes(nome_arq):\n",
    "    with open(nome_arq, encoding='ascii') as arq:\n",
    "        nomes = list(extrair_nomes(arq))\n",
    "    return len(nomes), Counter(nomes)\n",
    "\n",
    "total, contagem = conta_nomes(f'isen{ANO}.txt')\n",
    "print(total)\n",
    "contagem.most_common(20)"
   ]
  },
  {
   "cell_type": "code",
   "execution_count": 2,
   "id": "4909a49e-75b8-4889-96a9-2528d6cb2794",
   "metadata": {},
   "outputs": [
    {
     "name": "stdout",
     "output_type": "stream",
     "text": [
      "qtd_homonimos=457, qtd_total=30647, pct=1.5%\n",
      "len(nao_homonimos)=30190\n"
     ]
    }
   ],
   "source": [
    "qtd_homonimos = 0\n",
    "nao_homonimos = []\n",
    "with open(f'homonimos{ANO}.txt', 'w', encoding='ascii') as arq:\n",
    "    for nome, qtd in contagem.most_common():\n",
    "        if qtd > 1:\n",
    "            qtd_homonimos += qtd\n",
    "            arq.write(f'{qtd}\\t{nome}\\n')\n",
    "        else:\n",
    "            nao_homonimos.append(nome)\n",
    "    qtd_total = contagem.total()\n",
    "    pct = 100 * qtd_homonimos / qtd_total\n",
    "    stat = f'{qtd_homonimos=}, {qtd_total=}, {pct=:.1f}%'\n",
    "    arq.write('# ' + stat + '\\n')\n",
    "print(stat)\n",
    "nao_homonimos.sort()\n",
    "with open(f'nao_homonimos{ANO}.txt', 'w', encoding='ascii') as arq:\n",
    "    arq.write('\\n'.join(nao_homonimos) + '\\n')\n",
    "print(f'{len(nao_homonimos)=}')"
   ]
  },
  {
   "cell_type": "code",
   "execution_count": 15,
   "id": "0cd00c7a-a651-4c75-974c-37a1bbd1bff2",
   "metadata": {},
   "outputs": [
    {
     "data": {
      "text/plain": [
       "[(19, 'Ana Paula da Silva'),\n",
       " (11, 'Ana Paula dos Santos'),\n",
       " (7, 'Elaine Cristina da Silva'),\n",
       " (7, 'Maria Aparecida da Silva'),\n",
       " (7, 'Maria Jose da Silva'),\n",
       " (6, 'Ana Carolina da Silva'),\n",
       " (6, 'Ana Paula de Souza'),\n",
       " (5, 'Adriana Maria da Silva'),\n",
       " (5, 'Ana Paula de Oliveira'),\n",
       " (5, 'Elaine Cristina dos Santos'),\n",
       " (5, 'Fernanda Silva dos Santos'),\n",
       " (5, 'Juliana Aparecida da Silva'),\n",
       " (5, 'Juliana Ferreira da Silva'),\n",
       " (5, 'Kelly Cristina da Silva'),\n",
       " (5, 'Leandro Gomes da Silva'),\n",
       " (5, 'Luana Alves da Silva'),\n",
       " (5, 'Luciana Maria da Silva'),\n",
       " (5, 'Luis Carlos da Silva'),\n",
       " (5, 'Luiz Carlos da Silva'),\n",
       " (5, 'Maria Aparecida dos Santos'),\n",
       " (5, 'Rafael Ferreira da Silva'),\n",
       " (5, 'Simone Rodrigues dos Santos'),\n",
       " (5, 'Vanessa dos Santos'),\n",
       " (5, 'Vera Lucia da Silva'),\n",
       " (4, 'Adriana Aparecida da Silva'),\n",
       " (4, 'Adriana da Silva'),\n",
       " (4, 'Aline Aparecida dos Santos'),\n",
       " (4, 'Aline da Silva'),\n",
       " (4, 'Aline da Silva Santos'),\n",
       " (4, 'Ana Claudia da Silva'),\n",
       " (4, 'Ana Lucia da Silva'),\n",
       " (4, 'Ana Lucia dos Santos'),\n",
       " (4, 'Ana Maria da Silva Costa'),\n",
       " (4, 'Ana Maria dos Santos'),\n",
       " (4, 'Ana Paula Pereira da Silva'),\n",
       " (4, 'Anderson Alves da Silva'),\n",
       " (4, 'Anderson dos Santos'),\n",
       " (4, 'Andre Luiz Ferreira'),\n",
       " (4, 'Bruna de Oliveira'),\n",
       " (4, 'Carlos Eduardo da Silva'),\n",
       " (4, 'Carlos Eduardo dos Santos'),\n",
       " (4, 'Daiane Aparecida da Silva'),\n",
       " (4, 'Daniela da Silva'),\n",
       " (4, 'Douglas da Silva'),\n",
       " (4, 'Fernanda Rodrigues da Silva'),\n",
       " (4, 'Janaina Alves da Silva'),\n",
       " (4, 'Janaina Pereira da Silva'),\n",
       " (4, 'Joao Batista da Silva'),\n",
       " (4, 'Jose Carlos da Silva'),\n",
       " (4, 'Jose Eduardo da Silva')]"
      ]
     },
     "execution_count": 15,
     "metadata": {},
     "output_type": "execute_result"
    }
   ],
   "source": [
    "nomes = {}\n",
    "for nome_arq in sorted(glob('homonimos200*.txt')):\n",
    "    with open(nome_arq, encoding='ascii') as arq:\n",
    "        for linha in arq:\n",
    "            try:\n",
    "                qtd, nome = linha.strip().split('\\t')\n",
    "            except ValueError:\n",
    "                continue\n",
    "            qtd = int(qtd)\n",
    "            nomes[nome] = max(nomes.get(nome, 0), qtd)\n",
    "\n",
    "contagem = [(qtd, nome) for nome, qtd in nomes.items()]\n",
    "contagem.sort(key=lambda t: (-t[0], t[1]))\n",
    "contagem[:50]\n"
   ]
  },
  {
   "cell_type": "code",
   "execution_count": 16,
   "id": "920b9988-808a-4039-949b-1a9dda295912",
   "metadata": {},
   "outputs": [
    {
     "data": {
      "text/plain": [
       "[(2, 'Viviane Silva de Oliveira'),\n",
       " (2, 'Viviane da Silva Santos'),\n",
       " (2, 'Viviane de Oliveira'),\n",
       " (2, 'Viviane dos Santos'),\n",
       " (2, 'Viviane dos Santos Oliveira'),\n",
       " (2, 'Wagner Alves da Silva'),\n",
       " (2, 'Wagner Ferreira da Silva'),\n",
       " (2, 'Wagner Luiz da Silva'),\n",
       " (2, 'Wellington Henrique da Silva'),\n",
       " (2, 'Wellington Teixeira'),\n",
       " (2, 'Wellington da Silva'),\n",
       " (2, 'William Aparecido da Silva'),\n",
       " (2, 'William Pereira da Silva'),\n",
       " (2, 'William da Silva'),\n",
       " (2, 'William dos Santos'),\n",
       " (2, 'Willian Azevedo da Silva'),\n",
       " (2, 'Willian Pereira da Silva'),\n",
       " (2, 'Willians Pereira Conceicao Nasciment'),\n",
       " (2, 'Wilson Alves dos Santos'),\n",
       " (2, 'Yolanda Silva de Oliveira')]"
      ]
     },
     "execution_count": 16,
     "metadata": {},
     "output_type": "execute_result"
    }
   ],
   "source": [
    "contagem[-20:]"
   ]
  },
  {
   "cell_type": "code",
   "execution_count": 17,
   "id": "75101314-e376-4aed-8ecd-e54fe7ff9199",
   "metadata": {},
   "outputs": [],
   "source": [
    "total = 0\n",
    "with open('homonimos.txt', 'w', encoding='ascii') as arq:\n",
    "    for qtd, nome in contagem:\n",
    "        total += qtd\n",
    "        arq.write(f'{qtd}\\t{nome}\\n')\n",
    "    arq.write(f'# {total=}\\n')\n",
    "        "
   ]
  },
  {
   "cell_type": "code",
   "execution_count": null,
   "id": "ce0ad333-187d-453c-8c0a-df11a928c5cb",
   "metadata": {},
   "outputs": [],
   "source": []
  }
 ],
 "metadata": {
  "kernelspec": {
   "display_name": "Python 3 (ipykernel)",
   "language": "python",
   "name": "python3"
  },
  "language_info": {
   "codemirror_mode": {
    "name": "ipython",
    "version": 3
   },
   "file_extension": ".py",
   "mimetype": "text/x-python",
   "name": "python",
   "nbconvert_exporter": "python",
   "pygments_lexer": "ipython3",
   "version": "3.12.2"
  }
 },
 "nbformat": 4,
 "nbformat_minor": 5
}
