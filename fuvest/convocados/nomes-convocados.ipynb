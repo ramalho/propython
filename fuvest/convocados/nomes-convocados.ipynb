{
 "cells": [
  {
   "cell_type": "code",
   "execution_count": 1,
   "id": "37d9d483-54eb-4050-903e-8cba3eaa840b",
   "metadata": {},
   "outputs": [
    {
     "name": "stdout",
     "output_type": "stream",
     "text": [
      "-rw-rw-r-- 1 luciano luciano  788903 Feb 21 23:50 conv2002.txt\n",
      "-rw-rw-r-- 1 luciano luciano  829870 Feb 21 23:50 conv2003.txt\n",
      "-rw-rw-r-- 1 luciano luciano 1113155 Feb 21 23:50 conv2004.txt\n",
      "-rw-rw-r-- 1 luciano luciano 1052062 Feb 21 23:50 conv2005.txt\n",
      "-rw-rw-r-- 1 luciano luciano 1050545 Feb 21 23:50 conv2006.txt\n",
      "-rw-rw-r-- 1 luciano luciano 1281500 Feb 21 23:50 conv2007.txt\n",
      "-rw-rw-r-- 1 luciano luciano 1262140 Feb 21 23:50 conv2008.txt\n",
      "-rw-rw-r-- 1 luciano luciano 6558093 Feb 21 23:55 convocados.txt\n"
     ]
    }
   ],
   "source": [
    "%ls -l conv*.txt"
   ]
  },
  {
   "cell_type": "code",
   "execution_count": 2,
   "id": "13da3af3-c8bf-43dc-98af-f417137199a5",
   "metadata": {},
   "outputs": [
    {
     "name": "stdout",
     "output_type": "stream",
     "text": [
      "\n",
      "----------------------- A -----------------------\n",
      "6234600 Aaron Marques Fre\n",
      "4841718 Abel de Castro Silva\n",
      "7017883 Abel de Souza Junior\n",
      "8810563 Abel Dib Rayashi\n",
      "2407930 Abel Scupeliti Artilheiro\n",
      "8422280 Abilio Lourenco Blanco Neto\n",
      "5401814 Abner Almeida Massarioli\n",
      "1255155 Abner Cardoso Rodrigues Neto\n"
     ]
    }
   ],
   "source": [
    "! head conv2002.txt"
   ]
  },
  {
   "cell_type": "code",
   "execution_count": 3,
   "id": "43bc92cf-43b0-4187-a7b6-396f55211e28",
   "metadata": {},
   "outputs": [
    {
     "name": "stdout",
     "output_type": "stream",
     "text": [
      "Aaron Marques Fre\n",
      "Abel de Castro Silva\n",
      "Abel de Souza Junior\n",
      "Abel Dib Rayashi\n",
      "Abel Scupeliti Artilheiro\n",
      "Abilio Lourenco Blanco Neto\n",
      "Abner Almeida Massarioli\n"
     ]
    }
   ],
   "source": [
    "import sys\n",
    "\n",
    "def extrair_nomes(arquivo, quantos=sys.maxsize):\n",
    "\n",
    "    extraidos = 0\n",
    "    with open(arquivo, encoding='ascii') as entrada:\n",
    "        for linha in entrada:\n",
    "            linha = linha.strip()\n",
    "            if not linha or linha.startswith('---'):\n",
    "                continue\n",
    "            ident, *nome = linha.split()\n",
    "            if not nome:\n",
    "                continue\n",
    "            nome = ' '.join(nome)\n",
    "            yield(nome)\n",
    "            extraidos += 1\n",
    "            if extraidos == quantos:\n",
    "                break\n",
    "\n",
    "for nome in extrair_nomes('conv2002.txt', 7):\n",
    "    print(nome)"
   ]
  },
  {
   "cell_type": "code",
   "execution_count": 4,
   "id": "17a9551f-760e-439c-9870-fb14983f36bb",
   "metadata": {},
   "outputs": [
    {
     "name": "stdout",
     "output_type": "stream",
     "text": [
      "------------------------------------------------\n",
      "AAAAAAAAAAAAAAAAAAAAAAAAAAAAAAAAAAAAAAAAAAAAAAAA\n",
      "------------------------------------------------\n",
      "8610796 Aaron Juraski\n",
      "2231825 Abdiel Luciano Lobo de Oliveira\n",
      "3008405 Abdo Latif Fares\n",
      "7433866 Abel Pereira dos Santos Neto\n",
      "2447723 Abes Mahmed Amed Filho\n",
      "6249315 Abia Burigo Pedro\n",
      "2004927 Abigail Neide da Silva Santos\n"
     ]
    }
   ],
   "source": [
    "! head conv2008.txt"
   ]
  },
  {
   "cell_type": "code",
   "execution_count": 5,
   "id": "2b601add-4922-447b-827c-cbcb6e17fc7e",
   "metadata": {},
   "outputs": [
    {
     "name": "stdout",
     "output_type": "stream",
     "text": [
      "Aaron Juraski\n",
      "Abdiel Luciano Lobo de Oliveira\n",
      "Abdo Latif Fares\n",
      "Abel Pereira dos Santos Neto\n",
      "Abes Mahmed Amed Filho\n",
      "Abia Burigo Pedro\n",
      "Abigail Neide da Silva Santos\n"
     ]
    }
   ],
   "source": [
    "for nome in extrair_nomes('conv2008.txt', 7):\n",
    "    print(nome)"
   ]
  },
  {
   "cell_type": "code",
   "execution_count": 6,
   "id": "1a962906-bc96-4027-b4fd-d0b9e732f965",
   "metadata": {},
   "outputs": [
    {
     "data": {
      "text/plain": [
       "166324"
      ]
     },
     "execution_count": 6,
     "metadata": {},
     "output_type": "execute_result"
    }
   ],
   "source": [
    "from glob import glob\n",
    "\n",
    "nomes = set()\n",
    "for arquivo in sorted(glob('conv200*.txt')):\n",
    "    try:\n",
    "        nomes.update(extrair_nomes(arquivo))\n",
    "    except UnicodeDecodeError as e:\n",
    "        print(arquivo, e)\n",
    "        continue\n",
    "\n",
    "len(nomes)"
   ]
  },
  {
   "cell_type": "code",
   "execution_count": 13,
   "id": "f0b9e39a-9ccd-407e-96c3-34aba5343f27",
   "metadata": {},
   "outputs": [
    {
     "data": {
      "text/plain": [
       "['Zilton Affonso',\n",
       " 'Zilton Fioravante Salgado',\n",
       " 'Zipora Maria de Carvalho Silva',\n",
       " 'Ziza da Silva Lopes',\n",
       " 'Ziziane Busatta de Oliveira',\n",
       " 'Zoraia Moura da Silva',\n",
       " 'Zozimo Adeodato Fernandes',\n",
       " 'Zuleica Costa Zaboni',\n",
       " 'Zuleika da C H dos Santos',\n",
       " 'Zulene Eveline Abreu Ribeiro']"
      ]
     },
     "execution_count": 13,
     "metadata": {},
     "output_type": "execute_result"
    }
   ],
   "source": [
    "nomes = sorted(nomes)\n",
    "nomes[-10:]"
   ]
  },
  {
   "cell_type": "code",
   "execution_count": 8,
   "id": "3add64cb",
   "metadata": {},
   "outputs": [],
   "source": [
    "with open('convocados.txt', 'w') as saida:\n",
    "    for nome in sorted(nomes):\n",
    "        saida.write(nome + '\\n')"
   ]
  },
  {
   "cell_type": "markdown",
   "id": "d8801d52-ff9c-4924-9c23-bf77cdec0420",
   "metadata": {},
   "source": [
    "## Remendo para achar um nome escrito com ASCII inválido\n",
    "\n",
    "A Fuvest não usava Unicode...\n",
    "O nome não ASCII era Paulo Henrique Ignacio Saldaña.\n",
    "Reescrevi como Saldanha."
   ]
  },
  {
   "cell_type": "code",
   "execution_count": 9,
   "id": "a284e9ff-fdd6-4127-8553-9860c174ca2b",
   "metadata": {},
   "outputs": [
    {
     "name": "stdout",
     "output_type": "stream",
     "text": [
      "29639\n"
     ]
    }
   ],
   "source": [
    "linhas = []\n",
    "\n",
    "with open('conv2004.txt', mode='rb') as entrada:\n",
    "    for linha in entrada.readlines():\n",
    "        try:\n",
    "            texto = linha.decode('ascii')\n",
    "        except UnicodeDecodeError:\n",
    "            print(linha)\n",
    "        else:\n",
    "            linhas.append(texto)\n",
    "\n",
    "print(len(linhas))"
   ]
  },
  {
   "cell_type": "code",
   "execution_count": 10,
   "id": "58297c26-9249-42f1-bd28-d60eaffe404b",
   "metadata": {},
   "outputs": [
    {
     "data": {
      "text/plain": [
       "[('DE', 31103),\n",
       " ('DA', 10769),\n",
       " ('DO', 1682),\n",
       " ('SA', 287),\n",
       " ('DI', 228),\n",
       " ('LA', 61),\n",
       " ('AP', 56),\n",
       " ('EL', 54),\n",
       " ('YU', 52),\n",
       " ('JR', 50),\n",
       " ('WU', 42),\n",
       " ('HO', 35),\n",
       " ('LI', 31),\n",
       " ('NG', 22),\n",
       " ('JI', 21),\n",
       " ('OH', 20),\n",
       " ('AN', 19),\n",
       " ('RE', 17),\n",
       " ('MI', 17),\n",
       " ('BO', 16)]"
      ]
     },
     "execution_count": 10,
     "metadata": {},
     "output_type": "execute_result"
    }
   ],
   "source": [
    "from collections import Counter\n",
    "\n",
    "pedacinhos = Counter()\n",
    "\n",
    "for nome in nomes:\n",
    "    pedacinhos.update(parte.upper() for parte in nome.split() if len(parte) == 2)\n",
    "\n",
    "pedacinhos.most_common(20)"
   ]
  },
  {
   "cell_type": "markdown",
   "id": "4ff972b5-901f-4507-afb4-c69bf61773f6",
   "metadata": {},
   "source": [
    "## A fazer\n",
    "\n",
    "Para gerar novos nomes a partir destes...\n",
    "\n",
    "Eliminar sufixos H01, H02 (deve ser para homônimos) \n",
    "\n",
    "Será bom extrair JR e NETO da lista,\n",
    "ou criar uma lógica em que estes sufixos devem acompanhar o mesmo primeiro nome sempre,\n",
    "pois são sufixos usados só em nomes masculinos.\n",
    "Notei que Neto aparece também no meio do nome: Raul Neto Borges, Aline Carolina Neto Amorim."
   ]
  },
  {
   "cell_type": "code",
   "execution_count": 11,
   "id": "011abe4e-e83c-44a5-9bfe-3122620e8f7b",
   "metadata": {},
   "outputs": [
    {
     "name": "stdout",
     "output_type": "stream",
     "text": [
      "\u001b[0m\u001b[35mconv2002.txt\u001b[0m\n",
      "\u001b[0m413 Natalia\u001b[0m\u001b[1m\u001b[31m Neto Pereira\n",
      "\u001b[0m717 Silvana\u001b[0m\u001b[1m\u001b[31m Neto dos Reis\n",
      "\n",
      "\u001b[0m\u001b[35mconv2003.txt\u001b[0m\n",
      "\u001b[0m666 Debora\u001b[0m\u001b[1m\u001b[31m Neto Zampier\n",
      "\u001b[0m943 Hamilton\u001b[0m\u001b[1m\u001b[31m Neto Funchal\n",
      "\u001b[0m766 Marcelo\u001b[0m\u001b[1m\u001b[31m Neto Serra\n",
      "\u001b[0m450 Sergio\u001b[0m\u001b[1m\u001b[31m Neto Ribeiro\n",
      "\n",
      "\u001b[0m\u001b[35mconv2004.txt\u001b[0m\n",
      "\u001b[0m\u001b[32m10046\u001b[0m:20042213556 Felipe Tadeu\u001b[0m\u001b[1m\u001b[31m Neto Viveiro\n",
      "\u001b[0m\u001b[32m13288\u001b[0m:20041605636 Isabela\u001b[0m\u001b[1m\u001b[31m Neto Aguiar\n",
      "\u001b[0m\u001b[32m13490\u001b[0m:20048440169 Izabel\u001b[0m\u001b[1m\u001b[31m Neto Cardeal\n",
      "\u001b[0m\u001b[32m14003\u001b[0m:20042817970 Joao Marcos\u001b[0m\u001b[1m\u001b[31m Neto de Carvalho\n",
      "\u001b[0m\u001b[32m20223\u001b[0m:20042844831 Marina\u001b[0m\u001b[1m\u001b[31m Neto de Carvalho\n",
      "\u001b[0m\u001b[32m21764\u001b[0m:20048483512 Nerielen Martins\u001b[0m\u001b[1m\u001b[31m Neto Fracalozzi\n",
      "\u001b[0m\u001b[32m23212\u001b[0m:20044209161 Priscila\u001b[0m\u001b[1m\u001b[31m Neto da Silva\n",
      "\u001b[0m\u001b[32m26463\u001b[0m:20043848551 Sergio\u001b[0m\u001b[1m\u001b[31m Neto Ribeiro\n",
      "\n",
      "\u001b[0m\u001b[35mconv2005.txt\u001b[0m\n",
      "\u001b[0m\u001b[32m912\u001b[0m:2930936 Aline Carolina\u001b[0m\u001b[1m\u001b[31m Neto Amorim\n",
      "\u001b[0m\u001b[32m10486\u001b[0m:2108613 Felipe Tadeu\u001b[0m\u001b[1m\u001b[31m Neto Viveiro\n",
      "\u001b[0m\u001b[32m14103\u001b[0m:1509069 Isabela\u001b[0m\u001b[1m\u001b[31m Neto Aguiar\n",
      "\u001b[0m\u001b[32m14315\u001b[0m:6967526 Izabel\u001b[0m\u001b[1m\u001b[31m Neto Cardeal\n",
      "\u001b[0m\u001b[32m15265\u001b[0m:3549863 Jose\u001b[0m\u001b[1m\u001b[31m Neto da Silva Soares\n",
      "\u001b[0m\u001b[32m15280\u001b[0m:1349547 Jose Pereira da Silva\u001b[0m\u001b[1m\u001b[31m Neto H01\n",
      "\u001b[0m\u001b[32m15281\u001b[0m:1900566 Jose Pereira da Silva\u001b[0m\u001b[1m\u001b[31m Neto H02\n",
      "\u001b[0m\u001b[32m16648\u001b[0m:6924700 Larissa Rodrigues\u001b[0m\u001b[1m\u001b[31m Neto Angeloco\n",
      "\u001b[0m\u001b[32m21085\u001b[0m:2113279 Marina\u001b[0m\u001b[1m\u001b[31m Neto de Carvalho\n",
      "\n",
      "\u001b[0m\u001b[35mconv2007.txt\u001b[0m\n",
      "\u001b[0m\u001b[32m5110\u001b[0m:7004474 Bruno\u001b[0m\u001b[1m\u001b[31m Neto Batista\n",
      "\u001b[0m\u001b[32m10399\u001b[0m:7643372 Eduardo\u001b[0m\u001b[1m\u001b[31m Neto Rafael\n",
      "\u001b[0m\u001b[32m17080\u001b[0m:4146881 Ismael de Paulo Pereira\u001b[0m\u001b[1m\u001b[31m Neto Marani\n",
      "\u001b[0m\u001b[32m18041\u001b[0m:5182243 Joao\u001b[0m\u001b[1m\u001b[31m Neto Campos dos Santos\n",
      "\u001b[0m\u001b[32m18042\u001b[0m:7616464 Joao\u001b[0m\u001b[1m\u001b[31m Neto Prudente de Andrade\n",
      "\u001b[0m\u001b[32m28971\u001b[0m:3129822 Paula\u001b[0m\u001b[1m\u001b[31m Neto Homem de Montes\n",
      "\u001b[0m\u001b[32m29678\u001b[0m:2332524 Pedro\u001b[0m\u001b[1m\u001b[31m Neto Lopes de Sousa\n",
      "\n",
      "\u001b[0m\u001b[35mconv2006.txt\u001b[0m\n",
      "\u001b[0m\u001b[32m838\u001b[0m:2423065 Alina\u001b[0m\u001b[1m\u001b[31m Neto Simoes\n",
      "\u001b[0m\u001b[32m10744\u001b[0m:3631699 Fernando Fernandes\u001b[0m\u001b[1m\u001b[31m Neto H01\n",
      "\u001b[0m\u001b[32m13958\u001b[0m:1841026 Isabela\u001b[0m\u001b[1m\u001b[31m Neto Aguiar\n",
      "\u001b[0m\u001b[32m14187\u001b[0m:7071422 Izabel\u001b[0m\u001b[1m\u001b[31m Neto Cardeal\n",
      "\u001b[0m\u001b[32m16670\u001b[0m:7071625 Larissa Rodrigues\u001b[0m\u001b[1m\u001b[31m Neto Angeloco\n",
      "\u001b[0m\u001b[32m24167\u001b[0m:2451118 Pedro\u001b[0m\u001b[1m\u001b[31m Neto Lopes de Sousa\n",
      "\n",
      "\u001b[0m\u001b[35mconv2008.txt\u001b[0m\n",
      "\u001b[0m\u001b[32m10102\u001b[0m:8646059 Eduardo\u001b[0m\u001b[1m\u001b[31m Neto Rafael\n",
      "\u001b[0m\u001b[32m16723\u001b[0m:4813856 Ismael de Paulo Pereira\u001b[0m\u001b[1m\u001b[31m Neto Marani\n",
      "\u001b[0m\u001b[32m21364\u001b[0m:8818046 Lourenco Fernandes\u001b[0m\u001b[1m\u001b[31m Neto E Silva\n",
      "\u001b[0m\u001b[32m28515\u001b[0m:4226660 Paula\u001b[0m\u001b[1m\u001b[31m Neto Homem de Montes\n",
      "\u001b[0m\u001b[32m32522\u001b[0m:8628029 Rodrigo\u001b[0m\u001b[1m\u001b[31m Neto Pires\n",
      "\n",
      "\u001b[0m\u001b[35mconvocados.txt\u001b[0m\n",
      "\u001b[0m\u001b[32m4539\u001b[0m:Alina\u001b[0m\u001b[1m\u001b[31m Neto Simoes\u001b[0m\n",
      "\u001b[0m\u001b[32m4747\u001b[0m:Aline Carolina\u001b[0m\u001b[1m\u001b[31m Neto Amorim\u001b[0m\n",
      "\u001b[0m\u001b[32m21928\u001b[0m:Bruno\u001b[0m\u001b[1m\u001b[31m Neto Batista\u001b[0m\n",
      "\u001b[0m\u001b[32m40266\u001b[0m:Debora\u001b[0m\u001b[1m\u001b[31m Neto Zampier\u001b[0m\n",
      "\u001b[0m\u001b[32m45485\u001b[0m:Eduardo\u001b[0m\u001b[1m\u001b[31m Neto Rafael\u001b[0m\n",
      "\u001b[0m\u001b[32m54838\u001b[0m:Felipe Tadeu\u001b[0m\u001b[1m\u001b[31m Neto Viveiro\u001b[0m\n",
      "\u001b[0m\u001b[32m57612\u001b[0m:Fernando Fernandes\u001b[0m\u001b[1m\u001b[31m Neto H01\u001b[0m\n",
      "\u001b[0m\u001b[32m70237\u001b[0m:Hamilton\u001b[0m\u001b[1m\u001b[31m Neto Funchal\u001b[0m\n",
      "\u001b[0m\u001b[32m74184\u001b[0m:Isabela\u001b[0m\u001b[1m\u001b[31m Neto Aguiar\u001b[0m\n",
      "\u001b[0m\u001b[32m74716\u001b[0m:Ismael de Paulo Pereira\u001b[0m\u001b[1m\u001b[31m Neto Marani\u001b[0m\n",
      "\u001b[0m\u001b[32m75404\u001b[0m:Izabel\u001b[0m\u001b[1m\u001b[31m Neto Cardeal\u001b[0m\n",
      "\u001b[0m\u001b[32m78420\u001b[0m:Joao Marcos\u001b[0m\u001b[1m\u001b[31m Neto de Carvalho\u001b[0m\n",
      "\u001b[0m\u001b[32m78480\u001b[0m:Joao\u001b[0m\u001b[1m\u001b[31m Neto Campos dos Santos\u001b[0m\n",
      "\u001b[0m\u001b[32m78481\u001b[0m:Joao\u001b[0m\u001b[1m\u001b[31m Neto Prudente de Andrade\u001b[0m\n",
      "\u001b[0m\u001b[32m80870\u001b[0m:Jose\u001b[0m\u001b[1m\u001b[31m Neto da Silva Soares\u001b[0m\n",
      "\u001b[0m\u001b[32m80938\u001b[0m:Jose Pereira da Silva\u001b[0m\u001b[1m\u001b[31m Neto H01\u001b[0m\n",
      "\u001b[0m\u001b[32m80939\u001b[0m:Jose Pereira da Silva\u001b[0m\u001b[1m\u001b[31m Neto H02\u001b[0m\n",
      "\u001b[0m\u001b[32m88732\u001b[0m:Larissa Rodrigues\u001b[0m\u001b[1m\u001b[31m Neto Angeloco\u001b[0m\n",
      "\u001b[0m\u001b[32m94914\u001b[0m:Lourenco Fernandes\u001b[0m\u001b[1m\u001b[31m Neto E Silva\u001b[0m\n",
      "\u001b[0m\u001b[32m104626\u001b[0m:Marcelo\u001b[0m\u001b[1m\u001b[31m Neto Serra\u001b[0m\n",
      "\u001b[0m\u001b[32m113037\u001b[0m:Marina\u001b[0m\u001b[1m\u001b[31m Neto de Carvalho\u001b[0m\n",
      "\u001b[0m\u001b[32m120724\u001b[0m:Natalia\u001b[0m\u001b[1m\u001b[31m Neto Pereira\u001b[0m\n",
      "\u001b[0m\u001b[32m122458\u001b[0m:Nerielen Martins\u001b[0m\u001b[1m\u001b[31m Neto Fracalozzi\u001b[0m\n",
      "\u001b[0m\u001b[32m126120\u001b[0m:Paula\u001b[0m\u001b[1m\u001b[31m Neto Homem de Montes\u001b[0m\n",
      "\u001b[0m\u001b[32m129206\u001b[0m:Pedro\u001b[0m\u001b[1m\u001b[31m Neto Lopes de Sousa\u001b[0m\n",
      "\u001b[0m\u001b[32m130563\u001b[0m:Priscila\u001b[0m\u001b[1m\u001b[31m Neto da Silva\u001b[0m\n",
      "\u001b[0m\u001b[32m144256\u001b[0m:Rodrigo\u001b[0m\u001b[1m\u001b[31m Neto Pires\u001b[0m\n",
      "\u001b[0m\u001b[32m148264\u001b[0m:Sergio\u001b[0m\u001b[1m\u001b[31m Neto Ribeiro\u001b[0m\n",
      "\u001b[0m\u001b[32m148798\u001b[0m:Silvana\u001b[0m\u001b[1m\u001b[31m Neto dos Reis\u001b[0m\n"
     ]
    }
   ],
   "source": [
    "!rg \"\\sNeto\\s.+\" conv*"
   ]
  },
  {
   "cell_type": "markdown",
   "id": "c6b93fac-2e23-4f1b-a596-b190ef30ef72",
   "metadata": {},
   "source": [
    "Tratar nomes com da, de, do, di, del, von, van, van der, van de, van den ..."
   ]
  },
  {
   "cell_type": "code",
   "execution_count": null,
   "id": "dcab0287-9f19-48a3-93ab-effbd35bd021",
   "metadata": {},
   "outputs": [],
   "source": []
  }
 ],
 "metadata": {
  "kernelspec": {
   "display_name": "Python 3 (ipykernel)",
   "language": "python",
   "name": "python3"
  },
  "language_info": {
   "codemirror_mode": {
    "name": "ipython",
    "version": 3
   },
   "file_extension": ".py",
   "mimetype": "text/x-python",
   "name": "python",
   "nbconvert_exporter": "python",
   "pygments_lexer": "ipython3",
   "version": "3.12.2"
  }
 },
 "nbformat": 4,
 "nbformat_minor": 5
}
