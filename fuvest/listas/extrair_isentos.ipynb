{
 "cells": [
  {
   "cell_type": "code",
   "execution_count": 1,
   "id": "ceb88826-076b-48ff-b6f0-777f3a9c93a1",
   "metadata": {},
   "outputs": [
    {
     "data": {
      "text/plain": [
       "[('Ana Paula Alves de Souza', '3485156')]"
      ]
     },
     "execution_count": 1,
     "metadata": {},
     "output_type": "execute_result"
    }
   ],
   "source": [
    "from collections import Counter\n",
    "from glob import glob\n",
    "\n",
    "amostra = '20054108206 Ana Paula Alves de Souza (34851564-9-SP)'\n",
    "\n",
    "def extrair_isentos(linhas):\n",
    "    for linha in linhas:\n",
    "        linha = linha.strip()\n",
    "        campos = linha.split('(')\n",
    "        if len(campos) < 2:\n",
    "            continue  # ignorar marcas de quebra por letra inicial\n",
    "        ident = ''.join(c for c in campos[-1] if c.isdigit() and c!='0')[:7]\n",
    "        if not ident:\n",
    "            continue\n",
    "        partes = campos[0].split()[1:]  # descartar numero fuvest\n",
    "        yield ' '.join(partes), ident\n",
    "        \n",
    "list(extrair_isentos([amostra]))"
   ]
  },
  {
   "cell_type": "code",
   "execution_count": 2,
   "id": "27542251-bee9-4115-be75-875e6466647a",
   "metadata": {},
   "outputs": [
    {
     "name": "stdout",
     "output_type": "stream",
     "text": [
      "19946 isen2004.txt\n",
      "63316 isen2005.txt\n",
      "118094 isen2006.txt\n",
      "148343 isen2007.txt\n",
      "169736 isen2008.txt\n"
     ]
    }
   ],
   "source": [
    "isentos_ident = set()\n",
    "\n",
    "for ano in range(2004, 2009):\n",
    "    nome_arq = f'isen{ano}.txt'\n",
    "    with open(nome_arq, encoding='ascii') as arq:\n",
    "        isentos_ident.update(extrair_isentos(arq))\n",
    "        print(len(isentos_ident), nome_arq)"
   ]
  },
  {
   "cell_type": "code",
   "execution_count": 4,
   "id": "77f2918f-fe4d-4cbd-b1f2-ab5b6e0cf03c",
   "metadata": {},
   "outputs": [
    {
     "data": {
      "text/plain": [
       "[('Aarao Cecilio da Silva', '3296869'),\n",
       " ('Aaron Ben Siqueira', '4218926'),\n",
       " ('Aaron Militello Cesar', '3382179'),\n",
       " ('Aaron Nelson Lopes', '2948739'),\n",
       " ('Abadia Aparecida Marinho Guerreiro', '9428573'),\n",
       " ('Abadia Martins dos Santos', '2811426'),\n",
       " ('Abdala Lima Silva', '4188844'),\n",
       " ('Abdon Rios', '4258875'),\n",
       " ('Abdon da Costa Sousa', '2526951'),\n",
       " ('Abel Adriano de Carvalho', '4235814'),\n",
       " ('Abel Alberto dos Santos de Oliveira', '1867598'),\n",
       " ('Abel Aparecido de Almeida', '1925995'),\n",
       " ('Abel Brito de Angelo', '4385171'),\n",
       " ('Abel Constancio Martins de Moura', '2833256'),\n",
       " ('Abel Dias da Roz', '4389899'),\n",
       " ('Abel Fernando Pepe dos Anjos', '2769872'),\n",
       " ('Abel Fernando Pepe dos Anjos', '2869872'),\n",
       " ('Abel Francisco dos Santos', '4915551'),\n",
       " ('Abel Oliveira da Silva', '1257689'),\n",
       " ('Abel Pereira dos Santos Neto', '4449861'),\n",
       " ('Abel Ribeiro de Lima', '3246735'),\n",
       " ('Abel Ribeiro de Oliveira', '3871588'),\n",
       " ('Abel Silva Cardoso', '4172777'),\n",
       " ('Abelar Vicente de Sousa Lima', '3666463'),\n",
       " ('Abenai Alves de Oliveira', '651936'),\n",
       " ('Abgail Brito Goncalves', '4254582'),\n",
       " ('Abgail Bueno Correa', '1685891'),\n",
       " ('Abgail Souza de Oliveira', '4112782'),\n",
       " ('Abia Monique Siqueira Antonio', '4565591'),\n",
       " ('Abiadne Palas Sumarelli Albuquerque', '3362932'),\n",
       " ('Abidias Valadares de Oliveira', '1772632'),\n",
       " ('Abidjan dos Santos Valerio', '3439567'),\n",
       " ('Abigail Berenice Venancio', '4316398'),\n",
       " ('Abigail Cavalcante de Oliveira', '4754214'),\n",
       " ('Abigail Ferreira', '2828754'),\n",
       " ('Abigail Fonseca dos Santos', '4638566'),\n",
       " ('Abigail Neide da Silva Santos', '4214121'),\n",
       " ('Abigail Pereira Fabiano', '1634857'),\n",
       " ('Abigail Silva de Jesus Reis', '4545312'),\n",
       " ('Abigail da Rocha Osorio', '4132154'),\n",
       " ('Abigail da Silva Xavier', '4139364'),\n",
       " ('Abigail de Mattos Damazio', '4584259'),\n",
       " ('Abila da Silva Delphino', '4294683'),\n",
       " ('Abileni Franca Martins', '3294444'),\n",
       " ('Abilio Alexandre Vieira Borges', '2466316'),\n",
       " ('Abilio Martins Prata Junior', '3567954'),\n",
       " ('Abilio Santos da Cruz', '3825335'),\n",
       " ('Abilio da Silva Soares Junior', '4369595'),\n",
       " ('Abilma Almeida Ribeiro', '3866116'),\n",
       " ('Abimael Jose Martins de Oliveira', '4274921')]"
      ]
     },
     "execution_count": 4,
     "metadata": {},
     "output_type": "execute_result"
    }
   ],
   "source": [
    "isentos_ident = sorted(isentos_ident)\n",
    "isentos_ident[:50]"
   ]
  },
  {
   "cell_type": "code",
   "execution_count": 5,
   "id": "24bafd6e-2c5e-45af-96e0-f874eb53d4ac",
   "metadata": {},
   "outputs": [],
   "source": [
    "with open('isentos.txt', 'w', encoding='ascii') as arq:\n",
    "    for nome, ident in isentos_ident:\n",
    "        arq.write(nome + '\\n')"
   ]
  },
  {
   "cell_type": "code",
   "execution_count": 10,
   "id": "6d322714-2f0d-4446-a352-8693969dd168",
   "metadata": {},
   "outputs": [
    {
     "data": {
      "text/plain": [
       "['Ana Paula da Silva', 'Aaron Hwang']"
      ]
     },
     "execution_count": 10,
     "metadata": {},
     "output_type": "execute_result"
    }
   ],
   "source": [
    "amostra = ['20047416650 Ana Paula da Silva H11',\n",
    "           '2449310 Aaron Hwang']\n",
    "\n",
    "def extrair_convocados(linhas):\n",
    "    for linha in linhas:\n",
    "        if linha.startswith('---'):\n",
    "            continue\n",
    "        partes = linha.split()\n",
    "        if len(partes) < 3:\n",
    "            continue\n",
    "        if partes[-1].startswith('H0') or partes[-1].startswith('H1'):\n",
    "            del partes[-1]\n",
    "        yield ' '.join(partes[1:])\n",
    "        \n",
    "list(extrair_convocados(amostra))"
   ]
  },
  {
   "cell_type": "code",
   "execution_count": 11,
   "id": "d3735cc8-771d-4aaf-8509-2ec22f890b1f",
   "metadata": {},
   "outputs": [
    {
     "name": "stdout",
     "output_type": "stream",
     "text": [
      "len(vistos)=162677 len(convocados)=0\n",
      "22215 conv2002.txt\n",
      "40939 conv2003.txt\n",
      "63896 conv2004.txt\n",
      "83582 conv2005.txt\n",
      "102320 conv2006.txt\n",
      "125862 conv2007.txt\n",
      "148180 conv2008.txt\n",
      "len(vistos)=310857 len(convocados)=148180\n"
     ]
    }
   ],
   "source": [
    "vistos = {nome for nome, ident in isentos_ident}\n",
    "convocados = []\n",
    "print(f'{len(vistos)=} {len(convocados)=}')\n",
    "for ano in range(2002, 2009):\n",
    "    nome_arq = f'conv{ano}.txt'\n",
    "    with open(nome_arq, encoding='ascii') as arq:\n",
    "        for nome in extrair_convocados(arq):\n",
    "            if nome not in vistos:\n",
    "                vistos.add(nome)\n",
    "                convocados.append(nome)\n",
    "        print(len(convocados), nome_arq)\n",
    "print(f'{len(vistos)=} {len(convocados)=}')\n"
   ]
  },
  {
   "cell_type": "code",
   "execution_count": 12,
   "id": "2b182f1b-7069-4ab2-a0e9-78dc9c72f87a",
   "metadata": {},
   "outputs": [
    {
     "data": {
      "text/plain": [
       "['Aaron Marques Fre',\n",
       " 'Abel de Castro Silva',\n",
       " 'Abel de Souza Junior',\n",
       " 'Abel Dib Rayashi',\n",
       " 'Abel Scupeliti Artilheiro',\n",
       " 'Abilio Lourenco Blanco Neto',\n",
       " 'Abner Almeida Massarioli',\n",
       " 'Abner Cardoso Rodrigues Neto',\n",
       " 'Abner de Pinho Nogueira Freitas',\n",
       " 'Abner Gosmini',\n",
       " 'Abraao Lucas Pacheco Hercheui',\n",
       " 'Acacio Bannvart',\n",
       " 'Adagamos Pellegrini Sartini',\n",
       " 'Adaina da Silva Rosa',\n",
       " 'Adalberto Augusto Salzedas Junior',\n",
       " 'Adalberto Felicio Maluf Filho',\n",
       " 'Adalberto Francisco Soares Junior',\n",
       " 'Adalberto Kazuo Kishi',\n",
       " 'Adalberto Malinverni Junior',\n",
       " 'Adalberto Oliveira da Silva',\n",
       " 'Adalgisa Thayne Munhoz Ramos',\n",
       " 'Adalto Evangelista Filho',\n",
       " 'Adalton Jose de Cerqueira',\n",
       " 'Adam Yuzo Kurozawa',\n",
       " 'Adao Aparecido Lanzieri Modesto',\n",
       " 'Adauto de Azevedo',\n",
       " 'Adele Cristina da Silva Costa',\n",
       " 'Adelia Suzana da Cunha Melo',\n",
       " 'Adelino Gaspar Costeira',\n",
       " 'Adelita Bueno Braga',\n",
       " 'Adelmo Felipe de O Bento da Silva',\n",
       " 'Adelson Jose Gomes',\n",
       " 'Ademar Aparecido da Costa Filho',\n",
       " 'Ademar Bastos Brandao Junior',\n",
       " 'Ademar dos Santos Junior',\n",
       " 'Ademar Martins da Silva Junior',\n",
       " 'Ademar Moretti',\n",
       " 'Ademir da Costa Cabral Filho',\n",
       " 'Ademir dos Santos Ferrari Junior',\n",
       " 'Ademir Manerich',\n",
       " 'Ademir Massayoshi Takara',\n",
       " 'Adenilson Kong de Lima',\n",
       " 'Adevair de Paula Junior',\n",
       " 'Adey Carvalho Luiz',\n",
       " 'Adhemar Gomes da Silva Neto',\n",
       " 'Adiel Goncalves de Souza',\n",
       " 'Adiel Tanaka de Oliveira',\n",
       " 'Adil Guedes do Nascimento Junior',\n",
       " 'Adilson Arruda Rodrigues',\n",
       " 'Adilson Costa Rodrigues Junior']"
      ]
     },
     "execution_count": 12,
     "metadata": {},
     "output_type": "execute_result"
    }
   ],
   "source": [
    "convocados[:50]"
   ]
  },
  {
   "cell_type": "code",
   "execution_count": 13,
   "id": "47a94eb3-c06d-4bc3-b978-57cdb5e22443",
   "metadata": {},
   "outputs": [],
   "source": [
    "with open('convocados_unicos.txt', 'w', encoding='ascii') as arq:\n",
    "    for nome in convocados:\n",
    "        arq.write(nome + '\\n')"
   ]
  },
  {
   "cell_type": "code",
   "execution_count": null,
   "id": "a2b4483d-4d35-4028-90cf-cd75a3fa2465",
   "metadata": {},
   "outputs": [],
   "source": []
  }
 ],
 "metadata": {
  "kernelspec": {
   "display_name": "Python 3 (ipykernel)",
   "language": "python",
   "name": "python3"
  },
  "language_info": {
   "codemirror_mode": {
    "name": "ipython",
    "version": 3
   },
   "file_extension": ".py",
   "mimetype": "text/x-python",
   "name": "python",
   "nbconvert_exporter": "python",
   "pygments_lexer": "ipython3",
   "version": "3.12.2"
  }
 },
 "nbformat": 4,
 "nbformat_minor": 5
}
